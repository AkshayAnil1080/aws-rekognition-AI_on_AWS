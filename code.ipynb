{
 "cells": [
  {
   "cell_type": "code",
   "execution_count": 1,
   "metadata": {},
   "outputs": [],
   "source": [
    "# webcam photo click\n",
    "# pip install opencv-python\n",
    "import cv2"
   ]
  },
  {
   "cell_type": "code",
   "execution_count": 2,
   "metadata": {},
   "outputs": [],
   "source": [
    "# fucntion -  capability to connect to webcam - 0,1- internal,external webcam\n",
    "cap = cv2.VideoCapture(1)  #"
   ]
  },
  {
   "cell_type": "code",
   "execution_count": 3,
   "metadata": {},
   "outputs": [],
   "source": [
    "myphoto =\"akshay.jpg\"\n",
    "ret , photo = cap.read()\n",
    "cv2.imwrite(myphoto,photo)\n",
    "cap.release()"
   ]
  },
  {
   "cell_type": "code",
   "execution_count": 4,
   "metadata": {},
   "outputs": [
    {
     "data": {
      "text/plain": [
       "True"
      ]
     },
     "execution_count": 4,
     "metadata": {},
     "output_type": "execute_result"
    }
   ],
   "source": [
    "ret"
   ]
  },
  {
   "cell_type": "code",
   "execution_count": 5,
   "metadata": {},
   "outputs": [],
   "source": [
    "# upload photo to s23"
   ]
  },
  {
   "cell_type": "code",
   "execution_count": 6,
   "metadata": {},
   "outputs": [],
   "source": [
    "# upload photo into cloud storage s3 -  need of boto3\n",
    "region = \"ap-south-1\""
   ]
  },
  {
   "cell_type": "code",
   "execution_count": 7,
   "metadata": {},
   "outputs": [],
   "source": [
    "bucket = \"ai-workshop-bucket-akshay\""
   ]
  },
  {
   "cell_type": "code",
   "execution_count": 8,
   "metadata": {},
   "outputs": [
    {
     "data": {
      "text/plain": [
       "'akshay.jpg'"
      ]
     },
     "execution_count": 8,
     "metadata": {},
     "output_type": "execute_result"
    }
   ],
   "source": [
    "myphoto"
   ]
  },
  {
   "cell_type": "code",
   "execution_count": 9,
   "metadata": {},
   "outputs": [],
   "source": [
    "# pip install boto3\n",
    "import boto3"
   ]
  },
  {
   "cell_type": "code",
   "execution_count": 10,
   "metadata": {},
   "outputs": [],
   "source": [
    "upimage = \"file.jpg\""
   ]
  },
  {
   "cell_type": "code",
   "execution_count": 11,
   "metadata": {},
   "outputs": [],
   "source": [
    "s3 = boto3.resource('s3')"
   ]
  },
  {
   "cell_type": "code",
   "execution_count": 12,
   "metadata": {},
   "outputs": [],
   "source": [
    "s3.Bucket(bucket).upload_file(myphoto, upimage)"
   ]
  },
  {
   "cell_type": "code",
   "execution_count": 13,
   "metadata": {},
   "outputs": [],
   "source": [
    "# rek services to access the photos in s3\n",
    "rek = boto3.client('rekognition' , region)    #Amazon treat python here as a client"
   ]
  },
  {
   "cell_type": "code",
   "execution_count": 16,
   "metadata": {},
   "outputs": [],
   "source": [
    "response = rek.detect_labels(\n",
    "Image={\n",
    "          'S3Object': {\n",
    "              'Bucket': bucket,\n",
    "              'Name': upimage,\n",
    "          }\n",
    "      },\n",
    "      MaxLabels=10,\n",
    "      MinConfidence=60\n",
    "  \n",
    ")"
   ]
  },
  {
   "cell_type": "code",
   "execution_count": 19,
   "metadata": {},
   "outputs": [
    {
     "data": {
      "text/plain": [
       "{'Labels': [{'Name': 'Person',\n",
       "   'Confidence': 99.57052612304688,\n",
       "   'Instances': [{'BoundingBox': {'Width': 0.6755422353744507,\n",
       "      'Height': 0.7020813226699829,\n",
       "      'Left': 0.19509205222129822,\n",
       "      'Top': 0.29001376032829285},\n",
       "     'Confidence': 99.57052612304688}],\n",
       "   'Parents': []},\n",
       "  {'Name': 'Glasses',\n",
       "   'Confidence': 98.8519058227539,\n",
       "   'Instances': [{'BoundingBox': {'Width': 0.2114396095275879,\n",
       "      'Height': 0.09933637082576752,\n",
       "      'Left': 0.42562761902809143,\n",
       "      'Top': 0.4654092788696289},\n",
       "     'Confidence': 98.8519058227539}],\n",
       "   'Parents': []},\n",
       "  {'Name': 'Face',\n",
       "   'Confidence': 97.63007354736328,\n",
       "   'Instances': [],\n",
       "   'Parents': [{'Name': 'Person'}]},\n",
       "  {'Name': 'Furniture',\n",
       "   'Confidence': 92.75819396972656,\n",
       "   'Instances': [],\n",
       "   'Parents': []},\n",
       "  {'Name': 'Clothing',\n",
       "   'Confidence': 91.23031616210938,\n",
       "   'Instances': [],\n",
       "   'Parents': []},\n",
       "  {'Name': 'Indoors',\n",
       "   'Confidence': 90.57546997070312,\n",
       "   'Instances': [],\n",
       "   'Parents': []},\n",
       "  {'Name': 'Man',\n",
       "   'Confidence': 88.5438232421875,\n",
       "   'Instances': [],\n",
       "   'Parents': [{'Name': 'Person'}]},\n",
       "  {'Name': 'Lighting',\n",
       "   'Confidence': 79.39322662353516,\n",
       "   'Instances': [],\n",
       "   'Parents': []},\n",
       "  {'Name': 'Shelf',\n",
       "   'Confidence': 78.11422729492188,\n",
       "   'Instances': [],\n",
       "   'Parents': []},\n",
       "  {'Name': 'Room',\n",
       "   'Confidence': 75.2727279663086,\n",
       "   'Instances': [],\n",
       "   'Parents': [{'Name': 'Indoors'}]}],\n",
       " 'LabelModelVersion': '2.0',\n",
       " 'ResponseMetadata': {'RequestId': '14838b19-f262-40dc-b293-ef4403beb05e',\n",
       "  'HTTPStatusCode': 200,\n",
       "  'HTTPHeaders': {'content-type': 'application/x-amz-json-1.1',\n",
       "   'date': 'Sat, 03 Apr 2021 07:27:45 GMT',\n",
       "   'x-amzn-requestid': '14838b19-f262-40dc-b293-ef4403beb05e',\n",
       "   'content-length': '1169',\n",
       "   'connection': 'keep-alive'},\n",
       "  'RetryAttempts': 0}}"
      ]
     },
     "execution_count": 19,
     "metadata": {},
     "output_type": "execute_result"
    }
   ],
   "source": [
    "response"
   ]
  },
  {
   "cell_type": "code",
   "execution_count": 17,
   "metadata": {},
   "outputs": [
    {
     "name": "stdout",
     "output_type": "stream",
     "text": [
      "Person\n",
      "Glasses\n",
      "Face\n",
      "Furniture\n",
      "Clothing\n"
     ]
    }
   ],
   "source": [
    "# response\n",
    "for i in range(5):\n",
    "    print ( response['Labels'][i]['Name'])"
   ]
  },
  {
   "cell_type": "code",
   "execution_count": 21,
   "metadata": {},
   "outputs": [],
   "source": [
    "resfaces =rek.detect_faces(\n",
    "\n",
    " Image={\n",
    "         \n",
    "          'S3Object': {\n",
    "              'Bucket': bucket,\n",
    "              'Name': upimage,\n",
    "          }\n",
    "      },\n",
    "      Attributes=['ALL']\n",
    "\n",
    "  )"
   ]
  },
  {
   "cell_type": "code",
   "execution_count": 25,
   "metadata": {},
   "outputs": [
    {
     "name": "stdout",
     "output_type": "stream",
     "text": [
      "connect to meadia platey and play song\n"
     ]
    }
   ],
   "source": [
    "# using facial properties --  to perform meaningfull task accordingly.\n",
    "if resfaces['FaceDetails'][0]['Smile']['Value'] == False:\n",
    "    print(\"connect to meadia platey and play song\")"
   ]
  },
  {
   "cell_type": "code",
   "execution_count": null,
   "metadata": {},
   "outputs": [],
   "source": []
  }
 ],
 "metadata": {
  "kernelspec": {
   "display_name": "Python 3",
   "language": "python",
   "name": "python3"
  },
  "language_info": {
   "codemirror_mode": {
    "name": "ipython",
    "version": 3
   },
   "file_extension": ".py",
   "mimetype": "text/x-python",
   "name": "python",
   "nbconvert_exporter": "python",
   "pygments_lexer": "ipython3",
   "version": "3.8.3"
  }
 },
 "nbformat": 4,
 "nbformat_minor": 4
}
