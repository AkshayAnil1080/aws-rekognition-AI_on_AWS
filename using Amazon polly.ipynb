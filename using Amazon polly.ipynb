{
 "cells": [
  {
   "cell_type": "code",
   "execution_count": 1,
   "metadata": {},
   "outputs": [],
   "source": [
    "import boto3"
   ]
  },
  {
   "cell_type": "code",
   "execution_count": 2,
   "metadata": {},
   "outputs": [],
   "source": [
    "po = boto3.client('polly')"
   ]
  },
  {
   "cell_type": "code",
   "execution_count": 3,
   "metadata": {},
   "outputs": [],
   "source": [
    "res = po.synthesize_speech(Text = \"This is just test, welcome you all\", OutputFormat='mp3' , VoiceId='Joanna')  # using amazon polly - >print res to see the sender name"
   ]
  },
  {
   "cell_type": "code",
   "execution_count": 10,
   "metadata": {},
   "outputs": [
    {
     "data": {
      "text/plain": [
       "{'ResponseMetadata': {'RequestId': 'be9db4b0-092b-4320-b719-6a3609e2a072',\n",
       "  'HTTPStatusCode': 200,\n",
       "  'HTTPHeaders': {'x-amzn-requestid': 'be9db4b0-092b-4320-b719-6a3609e2a072',\n",
       "   'x-amzn-requestcharacters': '34',\n",
       "   'content-type': 'audio/mpeg',\n",
       "   'transfer-encoding': 'chunked',\n",
       "   'date': 'Sat, 03 Apr 2021 08:18:12 GMT'},\n",
       "  'RetryAttempts': 0},\n",
       " 'ContentType': 'audio/mpeg',\n",
       " 'RequestCharacters': '34',\n",
       " 'AudioStream': <botocore.response.StreamingBody at 0x1bec496b280>}"
      ]
     },
     "execution_count": 10,
     "metadata": {},
     "output_type": "execute_result"
    }
   ],
   "source": [
    "res"
   ]
  },
  {
   "cell_type": "code",
   "execution_count": 4,
   "metadata": {},
   "outputs": [],
   "source": [
    "# res['AudioStream'].read()  # bunary fomra"
   ]
  },
  {
   "cell_type": "code",
   "execution_count": 5,
   "metadata": {},
   "outputs": [],
   "source": [
    "file = open('myaudio.mp3' , 'wb')  # stroring the audio file"
   ]
  },
  {
   "cell_type": "code",
   "execution_count": 6,
   "metadata": {},
   "outputs": [
    {
     "data": {
      "text/plain": [
       "13054"
      ]
     },
     "execution_count": 6,
     "metadata": {},
     "output_type": "execute_result"
    }
   ],
   "source": [
    "file.write(res['AudioStream'].read())"
   ]
  },
  {
   "cell_type": "code",
   "execution_count": 7,
   "metadata": {},
   "outputs": [],
   "source": [
    "file.close()"
   ]
  },
  {
   "cell_type": "code",
   "execution_count": 8,
   "metadata": {},
   "outputs": [],
   "source": [
    "import IPython"
   ]
  },
  {
   "cell_type": "code",
   "execution_count": 9,
   "metadata": {},
   "outputs": [
    {
     "data": {
      "text/html": [
       "\n",
       "                <audio  controls=\"controls\" >\n",
       "                    <source src=\"data:audio/mpeg;base64,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\" type=\"audio/mpeg\" />\n",
       "                    Your browser does not support the audio element.\n",
       "                </audio>\n",
       "              "
      ],
      "text/plain": [
       "<IPython.lib.display.Audio object>"
      ]
     },
     "execution_count": 9,
     "metadata": {},
     "output_type": "execute_result"
    }
   ],
   "source": [
    "IPython.display.Audio(\"myaudio.mp3\")"
   ]
  },
  {
   "cell_type": "code",
   "execution_count": null,
   "metadata": {},
   "outputs": [],
   "source": []
  }
 ],
 "metadata": {
  "kernelspec": {
   "display_name": "Python 3",
   "language": "python",
   "name": "python3"
  },
  "language_info": {
   "codemirror_mode": {
    "name": "ipython",
    "version": 3
   },
   "file_extension": ".py",
   "mimetype": "text/x-python",
   "name": "python",
   "nbconvert_exporter": "python",
   "pygments_lexer": "ipython3",
   "version": "3.8.3"
  }
 },
 "nbformat": 4,
 "nbformat_minor": 4
}
